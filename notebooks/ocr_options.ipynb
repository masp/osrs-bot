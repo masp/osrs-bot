{
 "cells": [
  {
   "cell_type": "code",
   "execution_count": 3,
   "metadata": {},
   "outputs": [],
   "source": [
    "import pytesseract\n",
    "import cv2\n",
    "import matplotlib.pyplot as plt"
   ]
  },
  {
   "cell_type": "code",
   "execution_count": 4,
   "metadata": {},
   "outputs": [
    {
     "data": {
      "text/plain": [
       "'level\\tpage_num\\tblock_num\\tpar_num\\tline_num\\tword_num\\tleft\\ttop\\twidth\\theight\\tconf\\ttext\\n1\\t1\\t0\\t0\\t0\\t0\\t0\\t0\\t765\\t503\\t-1\\t\\n2\\t1\\t1\\t0\\t0\\t0\\t84\\t481\\t419\\t1\\t-1\\t\\n3\\t1\\t1\\t1\\t0\\t0\\t84\\t481\\t419\\t1\\t-1\\t\\n4\\t1\\t1\\t1\\t1\\t0\\t84\\t481\\t419\\t1\\t-1\\t\\n5\\t1\\t1\\t1\\t1\\t1\\t84\\t481\\t419\\t1\\t95.000000\\t \\n2\\t1\\t2\\t0\\t0\\t0\\t0\\t0\\t0\\t503\\t-1\\t\\n3\\t1\\t2\\t1\\t0\\t0\\t0\\t0\\t0\\t503\\t-1\\t\\n4\\t1\\t2\\t1\\t1\\t0\\t0\\t0\\t0\\t503\\t-1\\t\\n5\\t1\\t2\\t1\\t1\\t1\\t0\\t0\\t0\\t503\\t95.000000\\t \\n'"
      ]
     },
     "execution_count": 4,
     "metadata": {},
     "output_type": "execute_result"
    }
   ],
   "source": [
    "img = cv2.imread(\"snapshots/action_menu.png\")\n",
    "img_rgb = cv2.cvtColor(img, cv2.COLOR_BGR2RGB)\n",
    "txt = pytesseract.image_to_data(img_rgb)\n",
    "txt"
   ]
  },
  {
   "cell_type": "code",
   "execution_count": null,
   "metadata": {},
   "outputs": [],
   "source": []
  },
  {
   "cell_type": "code",
   "execution_count": null,
   "metadata": {},
   "outputs": [],
   "source": [
    "plt.figure(figsize=(10,10))\n",
    "plt.imshow(img_rgb)\n",
    "for box in boxes:\n",
    "    show_box(box, plt.gca())\n",
    "plt.title(f\"OCR Results\", fontsize=18)\n",
    "plt.axis('off')\n",
    "plt.show()"
   ]
  }
 ],
 "metadata": {
  "kernelspec": {
   "display_name": ".venv",
   "language": "python",
   "name": "python3"
  },
  "language_info": {
   "codemirror_mode": {
    "name": "ipython",
    "version": 3
   },
   "file_extension": ".py",
   "mimetype": "text/x-python",
   "name": "python",
   "nbconvert_exporter": "python",
   "pygments_lexer": "ipython3",
   "version": "3.10.10"
  },
  "orig_nbformat": 4
 },
 "nbformat": 4,
 "nbformat_minor": 2
}
